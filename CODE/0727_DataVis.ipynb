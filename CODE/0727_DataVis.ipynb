{
 "cells": [
  {
   "cell_type": "code",
   "execution_count": 1,
   "metadata": {},
   "outputs": [],
   "source": [
    "import pandas as pd\n",
    "\n",
    "\n",
    "import matplotlib.pyplot as plt\n",
    "import matplotlib.gridspec as gridspec\n",
    "import seaborn as sns"
   ]
  },
  {
   "cell_type": "code",
   "execution_count": 2,
   "metadata": {},
   "outputs": [],
   "source": [
    "df = pd.read_csv(\"../OUTPUT/aws_sensor.csv\")"
   ]
  },
  {
   "cell_type": "code",
   "execution_count": 3,
   "metadata": {},
   "outputs": [
    {
     "name": "stdout",
     "output_type": "stream",
     "text": [
      "ta1 TA\n",
      "rh1 HM\n",
      "pressure PA\n"
     ]
    },
    {
     "name": "stderr",
     "output_type": "stream",
     "text": [
      "No artists with labels found to put in legend.  Note that artists whose label start with an underscore are ignored when legend() is called with no argument.\n"
     ]
    },
    {
     "name": "stdout",
     "output_type": "stream",
     "text": [
      "ta1 TA\n"
     ]
    },
    {
     "name": "stderr",
     "output_type": "stream",
     "text": [
      "No artists with labels found to put in legend.  Note that artists whose label start with an underscore are ignored when legend() is called with no argument.\n"
     ]
    },
    {
     "name": "stdout",
     "output_type": "stream",
     "text": [
      "rh1 HM\n"
     ]
    },
    {
     "name": "stderr",
     "output_type": "stream",
     "text": [
      "No artists with labels found to put in legend.  Note that artists whose label start with an underscore are ignored when legend() is called with no argument.\n"
     ]
    },
    {
     "name": "stdout",
     "output_type": "stream",
     "text": [
      "pressure PA\n",
      "ta1 TA\n",
      "rh1 HM\n",
      "pressure PA\n",
      "ta1 TA\n",
      "rh1 HM\n",
      "pressure PA\n",
      "ta1 TA\n",
      "rh1 HM\n",
      "pressure PA\n",
      "ta1 TA\n",
      "rh1 HM\n",
      "pressure PA\n",
      "ta1 TA\n",
      "rh1 HM\n",
      "pressure PA\n"
     ]
    },
    {
     "name": "stderr",
     "output_type": "stream",
     "text": [
      "C:\\Users\\user\\AppData\\Local\\Temp\\ipykernel_23116\\3802463759.py:74: RuntimeWarning: More than 20 figures have been opened. Figures created through the pyplot interface (`matplotlib.pyplot.figure`) are retained until explicitly closed and may consume too much memory. (To control this warning, see the rcParam `figure.max_open_warning`). Consider using `matplotlib.pyplot.close()`.\n",
      "  fig = plt.figure(figsize=(18, 6))\n"
     ]
    },
    {
     "name": "stdout",
     "output_type": "stream",
     "text": [
      "ta1 TA\n",
      "rh1 HM\n",
      "pressure PA\n"
     ]
    },
    {
     "data": {
      "text/plain": [
       "<Figure size 1800x600 with 0 Axes>"
      ]
     },
     "metadata": {},
     "output_type": "display_data"
    },
    {
     "data": {
      "text/plain": [
       "<Figure size 1800x600 with 0 Axes>"
      ]
     },
     "metadata": {},
     "output_type": "display_data"
    },
    {
     "data": {
      "text/plain": [
       "<Figure size 1800x600 with 0 Axes>"
      ]
     },
     "metadata": {},
     "output_type": "display_data"
    },
    {
     "data": {
      "text/plain": [
       "<Figure size 1800x600 with 0 Axes>"
      ]
     },
     "metadata": {},
     "output_type": "display_data"
    },
    {
     "data": {
      "text/plain": [
       "<Figure size 1800x600 with 0 Axes>"
      ]
     },
     "metadata": {},
     "output_type": "display_data"
    },
    {
     "data": {
      "text/plain": [
       "<Figure size 1800x600 with 0 Axes>"
      ]
     },
     "metadata": {},
     "output_type": "display_data"
    },
    {
     "data": {
      "text/plain": [
       "<Figure size 1800x600 with 0 Axes>"
      ]
     },
     "metadata": {},
     "output_type": "display_data"
    },
    {
     "data": {
      "text/plain": [
       "<Figure size 1800x600 with 0 Axes>"
      ]
     },
     "metadata": {},
     "output_type": "display_data"
    },
    {
     "data": {
      "text/plain": [
       "<Figure size 1800x600 with 0 Axes>"
      ]
     },
     "metadata": {},
     "output_type": "display_data"
    },
    {
     "data": {
      "text/plain": [
       "<Figure size 1800x600 with 0 Axes>"
      ]
     },
     "metadata": {},
     "output_type": "display_data"
    },
    {
     "data": {
      "text/plain": [
       "<Figure size 1800x600 with 0 Axes>"
      ]
     },
     "metadata": {},
     "output_type": "display_data"
    },
    {
     "data": {
      "text/plain": [
       "<Figure size 1800x600 with 0 Axes>"
      ]
     },
     "metadata": {},
     "output_type": "display_data"
    },
    {
     "data": {
      "text/plain": [
       "<Figure size 1800x600 with 0 Axes>"
      ]
     },
     "metadata": {},
     "output_type": "display_data"
    },
    {
     "data": {
      "text/plain": [
       "<Figure size 1800x600 with 0 Axes>"
      ]
     },
     "metadata": {},
     "output_type": "display_data"
    },
    {
     "data": {
      "text/plain": [
       "<Figure size 1800x600 with 0 Axes>"
      ]
     },
     "metadata": {},
     "output_type": "display_data"
    },
    {
     "data": {
      "text/plain": [
       "<Figure size 1800x600 with 0 Axes>"
      ]
     },
     "metadata": {},
     "output_type": "display_data"
    },
    {
     "data": {
      "text/plain": [
       "<Figure size 1800x600 with 0 Axes>"
      ]
     },
     "metadata": {},
     "output_type": "display_data"
    },
    {
     "data": {
      "text/plain": [
       "<Figure size 1800x600 with 0 Axes>"
      ]
     },
     "metadata": {},
     "output_type": "display_data"
    },
    {
     "data": {
      "text/plain": [
       "<Figure size 1800x600 with 0 Axes>"
      ]
     },
     "metadata": {},
     "output_type": "display_data"
    },
    {
     "data": {
      "text/plain": [
       "<Figure size 1800x600 with 0 Axes>"
      ]
     },
     "metadata": {},
     "output_type": "display_data"
    },
    {
     "data": {
      "text/plain": [
       "<Figure size 1800x600 with 0 Axes>"
      ]
     },
     "metadata": {},
     "output_type": "display_data"
    },
    {
     "data": {
      "text/plain": [
       "<Figure size 1800x600 with 0 Axes>"
      ]
     },
     "metadata": {},
     "output_type": "display_data"
    },
    {
     "data": {
      "text/plain": [
       "<Figure size 1800x600 with 0 Axes>"
      ]
     },
     "metadata": {},
     "output_type": "display_data"
    },
    {
     "data": {
      "text/plain": [
       "<Figure size 1800x600 with 0 Axes>"
      ]
     },
     "metadata": {},
     "output_type": "display_data"
    }
   ],
   "source": [
    "df['s_status_txt'].unique()\n",
    "\n",
    "import matplotlib.pyplot as plt\n",
    "import seaborn as sns\n",
    "import matplotlib.gridspec as gridspec\n",
    "import numpy as np\n",
    "\n",
    "weather = ['TA', 'HM', 'PA']\n",
    "seansor_data = ['ta1', 'rh1', 'pressure']\n",
    "vi_road_list = df['s_status_txt'].unique()\n",
    "# 'Chemically wet', 'Damp', 'Wet', 'Dry', 'Ice', 'Critically wet',  'Snow / Ice', nan\n",
    "df = df[df['TA'] >= -100]\n",
    "df = df[df['pressure'] >= 960]\n",
    "df = df[df['PA'] >= 9600]\n",
    "# Define the y-axis limits for each plot. Adjust these limits as needed.\n",
    "y_limits = {\n",
    "    'ta1': (-10, 40),  # Example limits for 'ta1'\n",
    "    'rh1': (0, 100),  \n",
    "    'pressure': (950, 1050), # Example limits for 'pressure'\n",
    "    'PA': (950, 1050),\n",
    "    'TA': (-10, 40),   # Example limits for 'TA'\n",
    "    'HM': (0, 100)     # Example limits for 'HM'\n",
    "}\n",
    "\n",
    "# Define the order and colors for the legend\n",
    "hue_order = [ 'Dry','Damp', 'Wet', 'Snow / Ice','Ice','Chemically wet',  'Critically wet']# , np.nan] \n",
    "# palette = {\n",
    "#     'Dry': 'blue',\n",
    "#     'Moist': 'green',\n",
    "#     'Wet': 'cyan',\n",
    "#     'Snow': 'white',\n",
    "#     'Ice': 'gray',\n",
    "#     'Slush': 'yellow',\n",
    "#     'error': 'red',\n",
    "#     # np.nan: 'black'  # Assign a color for NaN if necessary\n",
    "# }\n",
    "\n",
    "palette = {\n",
    "    'Dry': 'blue',\n",
    "    'Chemically wet': 'green',\n",
    "    'Wet': 'cyan',\n",
    "    'Snow / Ice': 'white',\n",
    "    'Ice': 'gray',\n",
    "    'Critically wet': 'orange',\n",
    "    'Damp': 'yellow',\n",
    "    # np.nan: 'black'  # Assign a color for NaN if necessary\n",
    "}\n",
    "\n",
    "\n",
    "\n",
    "\n",
    "# Mapping of sensor data to descriptive names\n",
    "x_labels = {\n",
    "    'ta1': 'Temperature (°C)',\n",
    "    'rh1': 'Humidity (%)',\n",
    "    'pressure': 'Pressure (hPa)',\n",
    "    'TA': 'Temperature (°C)',\n",
    "    'HM': 'Humidity (%)',\n",
    "    'PA': 'Pressure (hPa)'\n",
    "}\n",
    "\n",
    "for i in vi_road_list:\n",
    "    for j in range(len(weather)):\n",
    "        elem2 = weather[j]\n",
    "        elem1 = seansor_data[j]\n",
    "        print(elem1, elem2)\n",
    "        df_graph1 = df[df['s_status_txt'] == i]\n",
    "        df_graph = df_graph1.copy()\n",
    "        df_graph[\"HM\"] = df_graph[\"HM\"] / 10\n",
    "        df_graph[\"TA\"] = df_graph[\"TA\"] / 10\n",
    "        df_graph[\"PA\"] = df_graph[\"PA\"] / 10\n",
    "        \n",
    "        # Create a gridspec layout with specified width ratios\n",
    "        fig = plt.figure(figsize=(18, 6))\n",
    "        gs = gridspec.GridSpec(1, 3, width_ratios=[1, 5, 1])  # Adjust the width_ratios as needed\n",
    "        \n",
    "        # Create the first box plot on the left\n",
    "        ax0 = plt.subplot(gs[0])\n",
    "        sns.boxplot(data=df_graph, y=elem1, ax=ax0)\n",
    "        ax0.set_title(f'road_state of ruft = {i} \\n{elem1}')\n",
    "        ax0.spines['top'].set_visible(False)\n",
    "        ax0.spines['right'].set_visible(False)\n",
    "        ax0.spines['left'].set_visible(False)\n",
    "        ax0.set_ylim(y_limits[elem1])  # Set y-axis limits for the first plot\n",
    "        ax0.set_xlabel(x_labels[elem1])  # Add x-axis label\n",
    "        \n",
    "        # Create the second box plot in the middle with hue\n",
    "        ax1 = plt.subplot(gs[1])\n",
    "        sns.boxplot(data=df_graph, y=elem1, hue='R_Sta_txt', ax=ax1, hue_order=hue_order, palette=palette)\n",
    "        ax1.set_title(f'Box Plot of {elem1} by R_Sta_txt')\n",
    "        ax1.legend(title='Status', bbox_to_anchor=(0.9, 1), loc='upper left', fontsize='large')\n",
    "        ax1.spines['top'].set_visible(False)\n",
    "        ax1.spines['right'].set_visible(False)\n",
    "        ax1.spines['left'].set_visible(False)\n",
    "        ax1.set_ylim(y_limits[elem1])  # Set y-axis limits for the second plot\n",
    "        ax1.set_xlabel(x_labels[elem1])  # Add x-axis label\n",
    "        \n",
    "        # Create the third box plot on the right\n",
    "        ax2 = plt.subplot(gs[2])\n",
    "        sns.boxplot(data=df_graph, y=elem2, ax=ax2)\n",
    "        ax2.set_title(f'Box Plot of {elem2} | aws')\n",
    "        ax2.spines['top'].set_visible(False)\n",
    "        ax2.spines['right'].set_visible(False)\n",
    "        ax2.spines['left'].set_visible(False)\n",
    "        ax2.set_ylim(y_limits[elem2])  # Set y-axis limits for the third plot\n",
    "        ax2.set_xlabel(x_labels[elem2])  # Add x-axis label\n",
    "\n",
    "        \n",
    "        # Display the plots      \n",
    "        plt.tight_layout()\n",
    "        name = f\"{elem1}_{elem2}_{i}\".replace(\"/\", \"_\")  # Replacing / with _ in the file name\n",
    "        # name = f\"{elem1}_{elem2}_{i}\".replace(\"\", \"_\")  # Replacing / with _ in the file name\n",
    "        plt.savefig(f'../OUTPUT/IMG/{name}.jpeg', dpi = 500)\n",
    "        plt.clf()\n"
   ]
  },
  {
   "cell_type": "code",
   "execution_count": 86,
   "metadata": {},
   "outputs": [
    {
     "name": "stdout",
     "output_type": "stream",
     "text": [
      "ta1 TA\n",
      "rh1 HM\n",
      "pressure PA\n",
      "ta1 TA\n",
      "rh1 HM\n",
      "pressure PA\n",
      "ta1 TA\n",
      "rh1 HM\n",
      "pressure PA\n",
      "ta1 TA\n",
      "rh1 HM\n",
      "pressure PA\n",
      "ta1 TA\n",
      "rh1 HM\n",
      "pressure PA\n",
      "ta1 TA\n",
      "rh1 HM\n",
      "pressure PA\n",
      "ta1 TA\n",
      "rh1 HM\n",
      "pressure PA\n"
     ]
    },
    {
     "name": "stderr",
     "output_type": "stream",
     "text": [
      "C:\\Users\\user\\AppData\\Local\\Temp\\ipykernel_24520\\3554424945.py:56: RuntimeWarning: More than 20 figures have been opened. Figures created through the pyplot interface (`matplotlib.pyplot.figure`) are retained until explicitly closed and may consume too much memory. (To control this warning, see the rcParam `figure.max_open_warning`). Consider using `matplotlib.pyplot.close()`.\n",
      "  fig = plt.figure(figsize=(18, 6))\n",
      "No artists with labels found to put in legend.  Note that artists whose label start with an underscore are ignored when legend() is called with no argument.\n"
     ]
    },
    {
     "name": "stdout",
     "output_type": "stream",
     "text": [
      "ta1 TA\n"
     ]
    },
    {
     "name": "stderr",
     "output_type": "stream",
     "text": [
      "No artists with labels found to put in legend.  Note that artists whose label start with an underscore are ignored when legend() is called with no argument.\n"
     ]
    },
    {
     "name": "stdout",
     "output_type": "stream",
     "text": [
      "rh1 HM\n"
     ]
    },
    {
     "name": "stderr",
     "output_type": "stream",
     "text": [
      "No artists with labels found to put in legend.  Note that artists whose label start with an underscore are ignored when legend() is called with no argument.\n"
     ]
    },
    {
     "name": "stdout",
     "output_type": "stream",
     "text": [
      "pressure PA\n"
     ]
    },
    {
     "data": {
      "text/plain": [
       "<Figure size 1800x600 with 0 Axes>"
      ]
     },
     "metadata": {},
     "output_type": "display_data"
    },
    {
     "data": {
      "text/plain": [
       "<Figure size 1800x600 with 0 Axes>"
      ]
     },
     "metadata": {},
     "output_type": "display_data"
    },
    {
     "data": {
      "text/plain": [
       "<Figure size 1800x600 with 0 Axes>"
      ]
     },
     "metadata": {},
     "output_type": "display_data"
    },
    {
     "data": {
      "text/plain": [
       "<Figure size 1800x600 with 0 Axes>"
      ]
     },
     "metadata": {},
     "output_type": "display_data"
    },
    {
     "data": {
      "text/plain": [
       "<Figure size 1800x600 with 0 Axes>"
      ]
     },
     "metadata": {},
     "output_type": "display_data"
    },
    {
     "data": {
      "text/plain": [
       "<Figure size 1800x600 with 0 Axes>"
      ]
     },
     "metadata": {},
     "output_type": "display_data"
    },
    {
     "data": {
      "text/plain": [
       "<Figure size 1800x600 with 0 Axes>"
      ]
     },
     "metadata": {},
     "output_type": "display_data"
    },
    {
     "data": {
      "text/plain": [
       "<Figure size 1800x600 with 0 Axes>"
      ]
     },
     "metadata": {},
     "output_type": "display_data"
    },
    {
     "data": {
      "text/plain": [
       "<Figure size 1800x600 with 0 Axes>"
      ]
     },
     "metadata": {},
     "output_type": "display_data"
    },
    {
     "data": {
      "text/plain": [
       "<Figure size 1800x600 with 0 Axes>"
      ]
     },
     "metadata": {},
     "output_type": "display_data"
    },
    {
     "data": {
      "text/plain": [
       "<Figure size 1800x600 with 0 Axes>"
      ]
     },
     "metadata": {},
     "output_type": "display_data"
    },
    {
     "data": {
      "text/plain": [
       "<Figure size 1800x600 with 0 Axes>"
      ]
     },
     "metadata": {},
     "output_type": "display_data"
    },
    {
     "data": {
      "text/plain": [
       "<Figure size 1800x600 with 0 Axes>"
      ]
     },
     "metadata": {},
     "output_type": "display_data"
    },
    {
     "data": {
      "text/plain": [
       "<Figure size 1800x600 with 0 Axes>"
      ]
     },
     "metadata": {},
     "output_type": "display_data"
    },
    {
     "data": {
      "text/plain": [
       "<Figure size 1800x600 with 0 Axes>"
      ]
     },
     "metadata": {},
     "output_type": "display_data"
    },
    {
     "data": {
      "text/plain": [
       "<Figure size 1800x600 with 0 Axes>"
      ]
     },
     "metadata": {},
     "output_type": "display_data"
    },
    {
     "data": {
      "text/plain": [
       "<Figure size 1800x600 with 0 Axes>"
      ]
     },
     "metadata": {},
     "output_type": "display_data"
    },
    {
     "data": {
      "text/plain": [
       "<Figure size 1800x600 with 0 Axes>"
      ]
     },
     "metadata": {},
     "output_type": "display_data"
    },
    {
     "data": {
      "text/plain": [
       "<Figure size 1800x600 with 0 Axes>"
      ]
     },
     "metadata": {},
     "output_type": "display_data"
    },
    {
     "data": {
      "text/plain": [
       "<Figure size 1800x600 with 0 Axes>"
      ]
     },
     "metadata": {},
     "output_type": "display_data"
    },
    {
     "data": {
      "text/plain": [
       "<Figure size 1800x600 with 0 Axes>"
      ]
     },
     "metadata": {},
     "output_type": "display_data"
    },
    {
     "data": {
      "text/plain": [
       "<Figure size 1800x600 with 0 Axes>"
      ]
     },
     "metadata": {},
     "output_type": "display_data"
    },
    {
     "data": {
      "text/plain": [
       "<Figure size 1800x600 with 0 Axes>"
      ]
     },
     "metadata": {},
     "output_type": "display_data"
    },
    {
     "data": {
      "text/plain": [
       "<Figure size 1800x600 with 0 Axes>"
      ]
     },
     "metadata": {},
     "output_type": "display_data"
    }
   ],
   "source": [
    "import matplotlib.pyplot as plt\n",
    "import seaborn as sns\n",
    "import matplotlib.gridspec as gridspec\n",
    "import numpy as np\n",
    "\n",
    "weather = ['TA', 'HM', 'PA']\n",
    "seansor_data = ['ta1', 'rh1', 'pressure']\n",
    "vi_road_list = df['R_Sta_txt'].unique()\n",
    "df = df[df['TA'] >= -100]\n",
    "\n",
    "# Define the y-axis limits for each plot. Adjust these limits as needed.\n",
    "y_limits = {\n",
    "    'ta1': (-10, 40),  # Example limits for 'ta1'\n",
    "    'rh1': (0, 100),  \n",
    "    'pressure': (950, 1050), # Example limits for 'pressure'\n",
    "    'PA': (950, 1050),\n",
    "    'TA': (-10, 40),   # Example limits for 'TA'\n",
    "    'HM': (0, 100)     # Example limits for 'HM'\n",
    "}\n",
    "\n",
    "# Define the order and colors for the legend\n",
    "hue_order = ['Dry', 'Moist', 'Wet', 'Snow', 'Ice', 'Slush', 'error']# , np.nan]\n",
    "palette = {\n",
    "    'Dry': 'blue',\n",
    "    'Moist': 'green',\n",
    "    'Wet': 'cyan',\n",
    "    'Snow': 'white',\n",
    "    'Ice': 'gray',\n",
    "    'Slush': 'yellow',\n",
    "    'error': 'red',\n",
    "    # np.nan: 'black'  # Assign a color for NaN if necessary\n",
    "}\n",
    "\n",
    "# Mapping of sensor data to descriptive names\n",
    "x_labels = {\n",
    "    'ta1': 'Temperature (°C)',\n",
    "    'rh1': 'Humidity (%)',\n",
    "    'pressure': 'Pressure (hPa)',\n",
    "    'TA': 'Temperature (°C)',\n",
    "    'HM': 'Humidity (%)',\n",
    "    'PA': 'Pressure (hPa)'\n",
    "}\n",
    "\n",
    "for i in vi_road_list:\n",
    "    for j in range(len(weather)):\n",
    "        elem2 = weather[j]\n",
    "        elem1 = seansor_data[j]\n",
    "        print(elem1, elem2)\n",
    "        df_graph1 = df[df['R_Sta_txt'] == i]\n",
    "        df_graph = df_graph1.copy()\n",
    "        df_graph[\"HM\"] = df_graph[\"HM\"] / 10\n",
    "        df_graph[\"TA\"] = df_graph[\"TA\"] / 10\n",
    "        df_graph[\"PA\"] = df_graph[\"PA\"] / 10\n",
    "        \n",
    "        # Create a gridspec layout with specified width ratios\n",
    "        fig = plt.figure(figsize=(18, 6))\n",
    "        gs = gridspec.GridSpec(1, 3, width_ratios=[1, 5, 1])  # Adjust the width_ratios as needed\n",
    "        \n",
    "        # Create the first box plot on the left\n",
    "        ax0 = plt.subplot(gs[0])\n",
    "        sns.boxplot(data=df_graph, y=elem1, ax=ax0)\n",
    "        ax0.set_title(f'road_state of vi = {i} \\n{elem1}')\n",
    "        ax0.spines['top'].set_visible(False)\n",
    "        ax0.spines['right'].set_visible(False)\n",
    "        ax0.spines['left'].set_visible(False)\n",
    "        ax0.set_ylim(y_limits[elem1])  # Set y-axis limits for the first plot\n",
    "        ax0.set_xlabel(x_labels[elem1])  # Add x-axis label\n",
    "        \n",
    "        # Create the second box plot in the middle with hue\n",
    "        ax1 = plt.subplot(gs[1])\n",
    "        sns.boxplot(data=df_graph, y=elem1, hue='s_status_txt', ax=ax1, hue_order=hue_order, palette=palette)\n",
    "        ax1.set_title(f'Box Plot of {elem1} by s_status_txt')\n",
    "        ax1.legend(title='Status', bbox_to_anchor=(0.9, 1), loc='upper left', fontsize='large')\n",
    "        ax1.spines['top'].set_visible(False)\n",
    "        ax1.spines['right'].set_visible(False)\n",
    "        ax1.spines['left'].set_visible(False)\n",
    "        ax1.set_ylim(y_limits[elem1])  # Set y-axis limits for the second plot\n",
    "        ax1.set_xlabel(x_labels[elem1])  # Add x-axis label\n",
    "        \n",
    "        # Create the third box plot on the right\n",
    "        ax2 = plt.subplot(gs[2])\n",
    "        sns.boxplot(data=df_graph, y=elem2, ax=ax2)\n",
    "        ax2.set_title(f'Box Plot of {elem2} | aws')\n",
    "        ax2.spines['top'].set_visible(False)\n",
    "        ax2.spines['right'].set_visible(False)\n",
    "        ax2.spines['left'].set_visible(False)\n",
    "        ax2.set_ylim(y_limits[elem2])  # Set y-axis limits for the third plot\n",
    "        ax2.set_xlabel(x_labels[elem2])  # Add x-axis label\n",
    "\n",
    "        \n",
    "        # Display the plots      \n",
    "        plt.tight_layout()\n",
    "        name = f\"{elem1}_{elem2}_{i}\".replace(\"/\", \"_\")  # Replacing / with _ in the file name\n",
    "        # name = f\"{elem1}_{elem2}_{i}\".replace(\"\", \"_\")  # Replacing / with _ in the file name\n",
    "        plt.savefig(f'../OUTPUT/IMG/{name}.jpeg', dpi = 500)\n",
    "        plt.clf()\n"
   ]
  },
  {
   "cell_type": "code",
   "execution_count": 5,
   "metadata": {},
   "outputs": [
    {
     "name": "stderr",
     "output_type": "stream",
     "text": [
      "C:\\Users\\user\\AppData\\Local\\Temp\\ipykernel_23116\\3932566154.py:54: RuntimeWarning: More than 20 figures have been opened. Figures created through the pyplot interface (`matplotlib.pyplot.figure`) are retained until explicitly closed and may consume too much memory. (To control this warning, see the rcParam `figure.max_open_warning`). Consider using `matplotlib.pyplot.close()`.\n",
      "  fig = plt.figure(figsize=(18, 6))\n"
     ]
    },
    {
     "data": {
      "text/plain": [
       "'Slush'"
      ]
     },
     "execution_count": 5,
     "metadata": {},
     "output_type": "execute_result"
    },
    {
     "data": {
      "text/plain": [
       "<Figure size 1800x600 with 0 Axes>"
      ]
     },
     "metadata": {},
     "output_type": "display_data"
    },
    {
     "data": {
      "text/plain": [
       "<Figure size 1800x600 with 0 Axes>"
      ]
     },
     "metadata": {},
     "output_type": "display_data"
    },
    {
     "data": {
      "text/plain": [
       "<Figure size 1800x600 with 0 Axes>"
      ]
     },
     "metadata": {},
     "output_type": "display_data"
    },
    {
     "data": {
      "text/plain": [
       "<Figure size 1800x600 with 0 Axes>"
      ]
     },
     "metadata": {},
     "output_type": "display_data"
    },
    {
     "data": {
      "text/plain": [
       "<Figure size 1800x600 with 0 Axes>"
      ]
     },
     "metadata": {},
     "output_type": "display_data"
    },
    {
     "data": {
      "text/plain": [
       "<Figure size 1800x600 with 0 Axes>"
      ]
     },
     "metadata": {},
     "output_type": "display_data"
    },
    {
     "data": {
      "text/plain": [
       "<Figure size 1800x600 with 0 Axes>"
      ]
     },
     "metadata": {},
     "output_type": "display_data"
    },
    {
     "data": {
      "text/plain": [
       "<Figure size 1800x600 with 0 Axes>"
      ]
     },
     "metadata": {},
     "output_type": "display_data"
    },
    {
     "data": {
      "text/plain": [
       "<Figure size 1800x600 with 0 Axes>"
      ]
     },
     "metadata": {},
     "output_type": "display_data"
    },
    {
     "data": {
      "text/plain": [
       "<Figure size 1800x600 with 0 Axes>"
      ]
     },
     "metadata": {},
     "output_type": "display_data"
    },
    {
     "data": {
      "text/plain": [
       "<Figure size 1800x600 with 0 Axes>"
      ]
     },
     "metadata": {},
     "output_type": "display_data"
    },
    {
     "data": {
      "text/plain": [
       "<Figure size 1800x600 with 0 Axes>"
      ]
     },
     "metadata": {},
     "output_type": "display_data"
    },
    {
     "data": {
      "text/plain": [
       "<Figure size 1800x600 with 0 Axes>"
      ]
     },
     "metadata": {},
     "output_type": "display_data"
    },
    {
     "data": {
      "text/plain": [
       "<Figure size 1800x600 with 0 Axes>"
      ]
     },
     "metadata": {},
     "output_type": "display_data"
    },
    {
     "data": {
      "text/plain": [
       "<Figure size 1800x600 with 0 Axes>"
      ]
     },
     "metadata": {},
     "output_type": "display_data"
    },
    {
     "data": {
      "text/plain": [
       "<Figure size 1800x600 with 0 Axes>"
      ]
     },
     "metadata": {},
     "output_type": "display_data"
    },
    {
     "data": {
      "text/plain": [
       "<Figure size 1800x600 with 0 Axes>"
      ]
     },
     "metadata": {},
     "output_type": "display_data"
    },
    {
     "data": {
      "text/plain": [
       "<Figure size 1800x600 with 0 Axes>"
      ]
     },
     "metadata": {},
     "output_type": "display_data"
    },
    {
     "data": {
      "text/plain": [
       "<Figure size 1800x600 with 0 Axes>"
      ]
     },
     "metadata": {},
     "output_type": "display_data"
    },
    {
     "data": {
      "text/plain": [
       "<Figure size 1800x600 with 0 Axes>"
      ]
     },
     "metadata": {},
     "output_type": "display_data"
    },
    {
     "data": {
      "text/plain": [
       "<Figure size 1800x600 with 0 Axes>"
      ]
     },
     "metadata": {},
     "output_type": "display_data"
    }
   ],
   "source": [
    "import matplotlib.pyplot as plt\n",
    "import seaborn as sns\n",
    "import matplotlib.gridspec as gridspec\n",
    "import numpy as np\n",
    "\n",
    "weather = ['TA', 'HM', 'PA']\n",
    "seansor_data = ['waterlayer', 'icelayer', 'snowlayer']  \n",
    "vi_road_list = df['s_status_txt'].unique()\n",
    "# 'Chemically wet', 'Damp', 'Wet', 'Dry', 'Ice', 'Critically wet',  'Snow / Ice', nan\n",
    "df = df[df['TA'] >= -100]\n",
    "\n",
    "# Define the y-axis limits for each plot. Adjust these limits as needed.\n",
    "y_limits = {\n",
    "    'ta1': (-10, 40),  # Example limits for 'ta1'\n",
    "    'rh1': (0, 100),  \n",
    "    'pressure': (950, 1050), # Example limits for 'pressure'\n",
    "    'PA': (950, 1050),\n",
    "    'TA': (-10, 40),   # Example limits for 'TA'\n",
    "    'HM': (0, 100)     # Example limits for 'HM'\n",
    "}\n",
    "\n",
    "# Define the order and colors for the legend\n",
    "# hue_order = ['Chemically wet', 'Damp', 'Wet', 'Dry', 'Ice', 'Critically wet',  'Snow / Ice']# , np.nan]\n",
    "hue_order = [ 'Dry','Damp', 'Wet', 'Snow / Ice','Ice','Chemically wet',  'Critically wet']\n",
    "# palette = {\n",
    "#     'Dry': 'blue',\n",
    "#     'Moist': 'green',\n",
    "#     'Wet': 'cyan',\n",
    "#     'Snow': 'white',\n",
    "#     'Ice': 'gray',\n",
    "#     'Slush': 'yellow',\n",
    "#     'error': 'red',\n",
    "#     # np.nan: 'black'  # Assign a color for NaN if necessary\n",
    "# }\n",
    "\n",
    "palette = {\n",
    "    'Dry': 'blue',\n",
    "    'Chemically wet': 'green',\n",
    "    'Wet': 'cyan',\n",
    "    'Snow / Ice': 'white',\n",
    "    'Ice': 'gray',\n",
    "    'Critically wet': 'orange',\n",
    "    'Damp': 'yellow',\n",
    "    # np.nan: 'black'  # Assign a color for NaN if necessary\n",
    "}\n",
    "\n",
    "for i in vi_road_list:\n",
    "    df_graph = df[df['s_status_txt'] == i]\n",
    "    for j in range(len(seansor_data)):\n",
    "        \n",
    "        elem1 = seansor_data[j]\n",
    "        \n",
    "        # Create a gridspec layout with specified width ratios\n",
    "        fig = plt.figure(figsize=(18, 6))\n",
    "        gs = gridspec.GridSpec(1, 2, width_ratios=[1, 5])  # Adjust the width_ratios as needed\n",
    "        \n",
    "        # Create the first box plot on the left\n",
    "        ax0 = plt.subplot(gs[0])\n",
    "        sns.boxplot(data=df_graph, y=elem1, ax=ax0, fliersize=0.1)\n",
    "        ax0.set_title(f'road_state of ruft = {i} \\n{elem1}')\n",
    "        ax0.spines['top'].set_visible(False)\n",
    "        ax0.spines['right'].set_visible(False)\n",
    "        ax0.spines['left'].set_visible(False)\n",
    "        ax0.set_xlabel(f'{elem1}')\n",
    "        # ax0.set_ylim(y_limits[elem1])  # Set y-axis limits for the first plot\n",
    "        \n",
    "        # Create the second box plot in the middle with hue\n",
    "        ax1 = plt.subplot(gs[1])\n",
    "        sns.boxplot(data=df_graph, y=elem1, hue='R_Sta_txt', ax=ax1, hue_order=hue_order, palette=palette, fliersize=0.1)\n",
    "        ax1.set_title(f'Box Plot of {elem1} by R_Sta_txt')\n",
    "        ax1.legend(title='Status', bbox_to_anchor=(0.9, 1), loc='upper left', fontsize='large')\n",
    "        ax1.spines['top'].set_visible(False)\n",
    "        ax1.spines['right'].set_visible(False)\n",
    "        ax1.spines['left'].set_visible(False)\n",
    "        ax1.set_xlabel(f'{elem1}')\n",
    "        # Display the plots      \n",
    "        plt.tight_layout()\n",
    "        name = f\"{elem1}_{i}\".replace(\"/\", \"_\")  # Replacing / with _ in the file name\n",
    "        \n",
    "        plt.savefig(f'../OUTPUT/IMG/{name}.jpeg', dpi = 500)\n",
    "        plt.clf()\n",
    "i"
   ]
  },
  {
   "cell_type": "code",
   "execution_count": 88,
   "metadata": {},
   "outputs": [
    {
     "name": "stderr",
     "output_type": "stream",
     "text": [
      "C:\\Users\\user\\AppData\\Local\\Temp\\ipykernel_24520\\3421870993.py:29: RuntimeWarning: More than 20 figures have been opened. Figures created through the pyplot interface (`matplotlib.pyplot.figure`) are retained until explicitly closed and may consume too much memory. (To control this warning, see the rcParam `figure.max_open_warning`). Consider using `matplotlib.pyplot.close()`.\n",
      "  fig = plt.figure(figsize=(18, 6))\n",
      "No artists with labels found to put in legend.  Note that artists whose label start with an underscore are ignored when legend() is called with no argument.\n",
      "No artists with labels found to put in legend.  Note that artists whose label start with an underscore are ignored when legend() is called with no argument.\n",
      "No artists with labels found to put in legend.  Note that artists whose label start with an underscore are ignored when legend() is called with no argument.\n"
     ]
    },
    {
     "data": {
      "text/plain": [
       "<Figure size 1800x600 with 0 Axes>"
      ]
     },
     "metadata": {},
     "output_type": "display_data"
    },
    {
     "data": {
      "text/plain": [
       "<Figure size 1800x600 with 0 Axes>"
      ]
     },
     "metadata": {},
     "output_type": "display_data"
    },
    {
     "data": {
      "text/plain": [
       "<Figure size 1800x600 with 0 Axes>"
      ]
     },
     "metadata": {},
     "output_type": "display_data"
    },
    {
     "data": {
      "text/plain": [
       "<Figure size 1800x600 with 0 Axes>"
      ]
     },
     "metadata": {},
     "output_type": "display_data"
    },
    {
     "data": {
      "text/plain": [
       "<Figure size 1800x600 with 0 Axes>"
      ]
     },
     "metadata": {},
     "output_type": "display_data"
    },
    {
     "data": {
      "text/plain": [
       "<Figure size 1800x600 with 0 Axes>"
      ]
     },
     "metadata": {},
     "output_type": "display_data"
    },
    {
     "data": {
      "text/plain": [
       "<Figure size 1800x600 with 0 Axes>"
      ]
     },
     "metadata": {},
     "output_type": "display_data"
    },
    {
     "data": {
      "text/plain": [
       "<Figure size 1800x600 with 0 Axes>"
      ]
     },
     "metadata": {},
     "output_type": "display_data"
    },
    {
     "data": {
      "text/plain": [
       "<Figure size 1800x600 with 0 Axes>"
      ]
     },
     "metadata": {},
     "output_type": "display_data"
    },
    {
     "data": {
      "text/plain": [
       "<Figure size 1800x600 with 0 Axes>"
      ]
     },
     "metadata": {},
     "output_type": "display_data"
    },
    {
     "data": {
      "text/plain": [
       "<Figure size 1800x600 with 0 Axes>"
      ]
     },
     "metadata": {},
     "output_type": "display_data"
    },
    {
     "data": {
      "text/plain": [
       "<Figure size 1800x600 with 0 Axes>"
      ]
     },
     "metadata": {},
     "output_type": "display_data"
    },
    {
     "data": {
      "text/plain": [
       "<Figure size 1800x600 with 0 Axes>"
      ]
     },
     "metadata": {},
     "output_type": "display_data"
    },
    {
     "data": {
      "text/plain": [
       "<Figure size 1800x600 with 0 Axes>"
      ]
     },
     "metadata": {},
     "output_type": "display_data"
    },
    {
     "data": {
      "text/plain": [
       "<Figure size 1800x600 with 0 Axes>"
      ]
     },
     "metadata": {},
     "output_type": "display_data"
    },
    {
     "data": {
      "text/plain": [
       "<Figure size 1800x600 with 0 Axes>"
      ]
     },
     "metadata": {},
     "output_type": "display_data"
    },
    {
     "data": {
      "text/plain": [
       "<Figure size 1800x600 with 0 Axes>"
      ]
     },
     "metadata": {},
     "output_type": "display_data"
    },
    {
     "data": {
      "text/plain": [
       "<Figure size 1800x600 with 0 Axes>"
      ]
     },
     "metadata": {},
     "output_type": "display_data"
    },
    {
     "data": {
      "text/plain": [
       "<Figure size 1800x600 with 0 Axes>"
      ]
     },
     "metadata": {},
     "output_type": "display_data"
    },
    {
     "data": {
      "text/plain": [
       "<Figure size 1800x600 with 0 Axes>"
      ]
     },
     "metadata": {},
     "output_type": "display_data"
    },
    {
     "data": {
      "text/plain": [
       "<Figure size 1800x600 with 0 Axes>"
      ]
     },
     "metadata": {},
     "output_type": "display_data"
    },
    {
     "data": {
      "text/plain": [
       "<Figure size 1800x600 with 0 Axes>"
      ]
     },
     "metadata": {},
     "output_type": "display_data"
    },
    {
     "data": {
      "text/plain": [
       "<Figure size 1800x600 with 0 Axes>"
      ]
     },
     "metadata": {},
     "output_type": "display_data"
    },
    {
     "data": {
      "text/plain": [
       "<Figure size 1800x600 with 0 Axes>"
      ]
     },
     "metadata": {},
     "output_type": "display_data"
    }
   ],
   "source": [
    "import matplotlib.pyplot as plt\n",
    "import seaborn as sns\n",
    "import matplotlib.gridspec as gridspec\n",
    "import numpy as np\n",
    "\n",
    "seansor_data = ['waterlayer', 'icelayer', 'snowlayer']  \n",
    "vi_road_list = df['R_Sta_txt'].unique()\n",
    "\n",
    "# Define the order and colors for the legend\n",
    "hue_order = ['Dry', 'Moist', 'Wet', 'Snow', 'Ice', 'Slush', 'error']# , np.nan]\n",
    "palette = {\n",
    "    'Dry': 'blue',\n",
    "    'Moist': 'green',\n",
    "    'Wet': 'cyan',\n",
    "    'Snow': 'white',\n",
    "    'Ice': 'gray',\n",
    "    'Slush': 'yellow',\n",
    "    'error': 'red',\n",
    "    # np.nan: 'black'  # Assign a color for NaN if necessary\n",
    "}\n",
    "\n",
    "for i in vi_road_list:\n",
    "    df_graph = df[df['R_Sta_txt'] == i]\n",
    "    for j in range(len(seansor_data)):\n",
    "        \n",
    "        elem1 = seansor_data[j]\n",
    "        \n",
    "        # Create a gridspec layout with specified width ratios\n",
    "        fig = plt.figure(figsize=(18, 6))\n",
    "        gs = gridspec.GridSpec(1, 2, width_ratios=[1, 5])  # Adjust the width_ratios as needed\n",
    "        \n",
    "        # Create the first box plot on the left\n",
    "        ax0 = plt.subplot(gs[0])\n",
    "        sns.boxplot(data=df_graph, y=elem1, ax=ax0, fliersize=0.1)\n",
    "        ax0.set_title(f'road_state of vi = {i} \\n{elem1}')\n",
    "        ax0.spines['top'].set_visible(False)\n",
    "        ax0.spines['right'].set_visible(False)\n",
    "        ax0.spines['left'].set_visible(False)\n",
    "        ax0.set_xlabel(f'{elem1}')\n",
    "        # ax0.set_ylim(y_limits[elem1])  # Set y-axis limits for the first plot\n",
    "        \n",
    "        # Create the second box plot in the middle with hue\n",
    "        ax1 = plt.subplot(gs[1])\n",
    "        sns.boxplot(data=df_graph, y=elem1, hue='s_status_txt', ax=ax1, hue_order=hue_order, palette=palette, fliersize=0.1)\n",
    "        ax1.set_title(f'Box Plot of {elem1} by s_status_txt')\n",
    "        ax1.legend(title='Status', bbox_to_anchor=(0.9, 1), loc='upper left', fontsize='large')\n",
    "        ax1.spines['top'].set_visible(False)\n",
    "        ax1.spines['right'].set_visible(False)\n",
    "        ax1.spines['left'].set_visible(False)\n",
    "        ax1.set_xlabel(f'{elem1}')\n",
    "        # Display the plots      \n",
    "        plt.tight_layout()\n",
    "        name = f\"{elem1}_{i}\".replace(\"/\", \"_\")  # Replacing / with _ in the file name\n",
    "        \n",
    "        plt.savefig(f'../OUTPUT/IMG/{name}.jpeg', dpi = 500)\n",
    "        plt.clf()\n"
   ]
  }
 ],
 "metadata": {
  "kernelspec": {
   "display_name": "data",
   "language": "python",
   "name": "python3"
  },
  "language_info": {
   "codemirror_mode": {
    "name": "ipython",
    "version": 3
   },
   "file_extension": ".py",
   "mimetype": "text/x-python",
   "name": "python",
   "nbconvert_exporter": "python",
   "pygments_lexer": "ipython3",
   "version": "3.11.9"
  }
 },
 "nbformat": 4,
 "nbformat_minor": 2
}
