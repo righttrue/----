{
 "cells": [
  {
   "cell_type": "code",
   "execution_count": 7,
   "metadata": {},
   "outputs": [],
   "source": [
    "import pandas as pd\n",
    "import numpy as np"
   ]
  },
  {
   "cell_type": "code",
   "execution_count": 8,
   "metadata": {},
   "outputs": [],
   "source": [
    "from sklearn.ensemble import RandomForestClassifier\n",
    "from sklearn.datasets import make_classification\n",
    "\n",
    "from sklearn.model_selection import train_test_split"
   ]
  },
  {
   "cell_type": "code",
   "execution_count": 14,
   "metadata": {},
   "outputs": [],
   "source": [
    "file_dir = \"../DATA/CONCAT/luft_vi_2023_2024.csv\"\n",
    "df = pd.read_csv(file_dir,low_memory=False)"
   ]
  },
  {
   "cell_type": "code",
   "execution_count": 18,
   "metadata": {},
   "outputs": [],
   "source": [
    "# Replace '//////' with NaN in the specified columns\n",
    "columns_to_replace = ['glatitude', 'glongitude', 'galtitude', 'vsp', 'rws', 'rwd', 'tws', 'twd', \n",
    "                      'ta1', 'rh1', 'pressure', 'precipitation', 'raindetector', 'solarradiation', \n",
    "                      'sw_down', 'sw_up', 'lw_down', 'lw_up', 'netradiation', 's_ta', 's_status', \n",
    "                      'grip', 'waterlayer', 'icelayer', 'snowlayer', 'R_Tem', 'R_Dew', 'R_Hum', \n",
    "                      'R_WH', 'R_Sta', 'R_Ice', 'R_Fric', 'R_Sta_txt']\n",
    "\n",
    "df[columns_to_replace] = df[columns_to_replace].replace('//////', np.nan)\n",
    "df[columns_to_replace] = df[columns_to_replace].replace('/', np.nan)\n",
    "df[columns_to_replace] = df[columns_to_replace].replace('////', np.nan)\n",
    "df[columns_to_replace] = df[columns_to_replace].replace('///////', np.nan)"
   ]
  },
  {
   "cell_type": "code",
   "execution_count": 21,
   "metadata": {},
   "outputs": [],
   "source": [
    "df = df.dropna()"
   ]
  },
  {
   "cell_type": "code",
   "execution_count": 27,
   "metadata": {},
   "outputs": [
    {
     "name": "stderr",
     "output_type": "stream",
     "text": [
      "c:\\Users\\user\\anaconda3\\envs\\data\\Lib\\site-packages\\sklearn\\base.py:1474: DataConversionWarning: A column-vector y was passed when a 1d array was expected. Please change the shape of y to (n_samples,), for example using ravel().\n",
      "  return fit_method(estimator, *args, **kwargs)\n"
     ]
    },
    {
     "name": "stdout",
     "output_type": "stream",
     "text": [
      "Accuracy: 0.9996778539213964\n"
     ]
    }
   ],
   "source": [
    "import numpy as np\n",
    "import pandas as pd\n",
    "from sklearn.ensemble import RandomForestClassifier\n",
    "from sklearn.metrics import confusion_matrix, ConfusionMatrixDisplay,accuracy_score\n",
    "\n",
    "# 예제 데이터 생성 (Iris 데이터셋 사용)\n",
    "from sklearn.datasets import load_iris\n",
    "iris = load_iris()\n",
    "X = df[[ 'glatitude', 'glongitude', 'galtitude', 'vsp', 'rws', 'rwd', 'tws', 'twd', 'ta1', 'rh1', 'pressure',\n",
    "       'precipitation', 'raindetector', 'solarradiation', 'sw_down', 'sw_up', 'lw_down', 'lw_up', 'netradiation', 's_ta',  'grip',\n",
    "       'waterlayer', 'icelayer', 'snowlayer', 'R_Tem', 'R_Dew', 'R_Hum', 'R_WH', 'R_Ice', 'R_Fric',\n",
    "       ]]# 'R_Sta_txt','R_Sta', 's_status',\"TIMESTAMP\"\n",
    "y = df[['R_Sta']]\n",
    "\n",
    "# 데이터 분할\n",
    "from sklearn.model_selection import train_test_split\n",
    "X_train, X_test, y_train, y_test = train_test_split(X, y, test_size=0.3, random_state=42)\n",
    "\n",
    "# 랜덤 포레스트 분류기 학습\n",
    "model = RandomForestClassifier(n_estimators=100, random_state=42)\n",
    "model.fit(X_train, y_train)\n",
    "\n",
    "# 예측\n",
    "y_pred = model.predict(X_test)\n",
    "accuracy = accuracy_score(y_test, y_pred)\n",
    "print(f'Accuracy: {accuracy}')"
   ]
  },
  {
   "cell_type": "code",
   "execution_count": 28,
   "metadata": {},
   "outputs": [
    {
     "name": "stderr",
     "output_type": "stream",
     "text": [
      "c:\\Users\\user\\anaconda3\\envs\\data\\Lib\\site-packages\\sklearn\\base.py:1474: DataConversionWarning: A column-vector y was passed when a 1d array was expected. Please change the shape of y to (n_samples,), for example using ravel().\n",
      "  return fit_method(estimator, *args, **kwargs)\n"
     ]
    }
   ],
   "source": [
    "import numpy as np\n",
    "import pandas as pd\n",
    "from sklearn.ensemble import RandomForestClassifier\n",
    "from sklearn.metrics import confusion_matrix, ConfusionMatrixDisplay,accuracy_score\n",
    "\n",
    "# 예제 데이터 생성 (Iris 데이터셋 사용)\n",
    "from sklearn.datasets import load_iris\n",
    "iris = load_iris()\n",
    "X = df[[ 'glatitude', 'glongitude', 'galtitude', 'vsp', 'rws', 'rwd', 'tws', 'twd', 'ta1', 'rh1', 'pressure',\n",
    "       'precipitation', 'raindetector', 'solarradiation', 'sw_down', 'sw_up', 'lw_down', 'lw_up', 'netradiation', 's_ta',  'grip',\n",
    "       'waterlayer', 'icelayer', 'snowlayer', 'R_Tem', 'R_Dew', 'R_Hum', 'R_WH', 'R_Ice', 'R_Fric',\n",
    "       ]]# 'R_Sta_txt','R_Sta', 's_status',\"TIMESTAMP\"\n",
    "y = df[['s_status']]\n",
    "\n",
    "# 데이터 분할\n",
    "from sklearn.model_selection import train_test_split\n",
    "X_train, X_test, y_train, y_test = train_test_split(X, y, test_size=0.3, random_state=42)\n",
    "\n",
    "# 랜덤 포레스트 분류기 학습\n",
    "model = RandomForestClassifier(n_estimators=100, random_state=42)\n",
    "model.fit(X_train, y_train)\n",
    "\n",
    "# 예측\n",
    "y_pred = model.predict(X_test)"
   ]
  },
  {
   "cell_type": "code",
   "execution_count": 29,
   "metadata": {},
   "outputs": [
    {
     "name": "stdout",
     "output_type": "stream",
     "text": [
      "Accuracy: 0.9857494289228607\n"
     ]
    }
   ],
   "source": [
    "accuracy = accuracy_score(y_test, y_pred)\n",
    "print(f'Accuracy: {accuracy}')"
   ]
  },
  {
   "cell_type": "code",
   "execution_count": null,
   "metadata": {},
   "outputs": [],
   "source": []
  }
 ],
 "metadata": {
  "kernelspec": {
   "display_name": "data",
   "language": "python",
   "name": "python3"
  },
  "language_info": {
   "codemirror_mode": {
    "name": "ipython",
    "version": 3
   },
   "file_extension": ".py",
   "mimetype": "text/x-python",
   "name": "python",
   "nbconvert_exporter": "python",
   "pygments_lexer": "ipython3",
   "version": "3.11.9"
  }
 },
 "nbformat": 4,
 "nbformat_minor": 2
}
