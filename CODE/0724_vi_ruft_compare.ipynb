{
 "cells": [
  {
   "cell_type": "code",
   "execution_count": 6,
   "metadata": {},
   "outputs": [],
   "source": [
    "import numpy as np\n",
    "import pandas as pd"
   ]
  },
  {
   "cell_type": "code",
   "execution_count": 37,
   "metadata": {},
   "outputs": [],
   "source": [
    "df = pd.read_csv('../DATA/CONCAT/luft_vi_2023_2024.csv')"
   ]
  },
  {
   "cell_type": "code",
   "execution_count": 15,
   "metadata": {},
   "outputs": [
    {
     "data": {
      "text/plain": [
       "array(['Dry', nan, 'Moist', 'error', 'Wet', 'Snow', 'Ice', 'Slush'],\n",
       "      dtype=object)"
      ]
     },
     "execution_count": 15,
     "metadata": {},
     "output_type": "execute_result"
    }
   ],
   "source": [
    "df['s_status_txt'].unique()"
   ]
  },
  {
   "cell_type": "code",
   "execution_count": 17,
   "metadata": {},
   "outputs": [
    {
     "data": {
      "text/plain": [
       "array(['Chemically wet', 'Damp', 'Wet', 'Dry', 'Ice', 'Critically wet',\n",
       "       'Snow / Ice', nan], dtype=object)"
      ]
     },
     "execution_count": 17,
     "metadata": {},
     "output_type": "execute_result"
    }
   ],
   "source": [
    "df['R_Sta_txt'].unique()"
   ]
  },
  {
   "cell_type": "code",
   "execution_count": 18,
   "metadata": {},
   "outputs": [
    {
     "data": {
      "text/plain": [
       "R_Sta_txt\n",
       "Dry               334016\n",
       "Damp              251835\n",
       "Wet               178890\n",
       "Chemically wet    171229\n",
       "Ice                 4479\n",
       "Critically wet      2236\n",
       "Snow / Ice           578\n",
       "Name: count, dtype: int64"
      ]
     },
     "execution_count": 18,
     "metadata": {},
     "output_type": "execute_result"
    }
   ],
   "source": [
    "df['R_Sta_txt'].value_counts()"
   ]
  },
  {
   "cell_type": "code",
   "execution_count": 19,
   "metadata": {},
   "outputs": [
    {
     "data": {
      "text/plain": [
       "s_status_txt\n",
       "Dry      504150\n",
       "Moist    176314\n",
       "Wet      108229\n",
       "error     16420\n",
       "Snow       2898\n",
       "Slush      1185\n",
       "Ice         131\n",
       "Name: count, dtype: int64"
      ]
     },
     "execution_count": 19,
     "metadata": {},
     "output_type": "execute_result"
    }
   ],
   "source": [
    "df['s_status_txt'].value_counts()"
   ]
  },
  {
   "cell_type": "code",
   "execution_count": 34,
   "metadata": {},
   "outputs": [
    {
     "name": "stdout",
     "output_type": "stream",
     "text": [
      "s_status_txt : Dry : R_Sta_txt : Chemically wet: 75770\n",
      "s_status_txt : Dry : R_Sta_txt : Damp: 146872\n",
      "s_status_txt : Dry : R_Sta_txt : Wet: 24893\n",
      "s_status_txt : Dry : R_Sta_txt : Dry: 256261\n",
      "s_status_txt : Dry : R_Sta_txt : Ice: 87\n",
      "s_status_txt : Dry : R_Sta_txt : Critically wet: 17\n",
      "s_status_txt : Dry : R_Sta_txt : Snow / Ice: 8\n",
      "s_status_txt : Dry : R_Sta_txt : nan: 0\n",
      "s_status_txt : nan : R_Sta_txt : Chemically wet: 0\n",
      "s_status_txt : nan : R_Sta_txt : Damp: 0\n",
      "s_status_txt : nan : R_Sta_txt : Wet: 0\n",
      "s_status_txt : nan : R_Sta_txt : Dry: 0\n",
      "s_status_txt : nan : R_Sta_txt : Ice: 0\n",
      "s_status_txt : nan : R_Sta_txt : Critically wet: 0\n",
      "s_status_txt : nan : R_Sta_txt : Snow / Ice: 0\n",
      "s_status_txt : nan : R_Sta_txt : nan: 0\n",
      "s_status_txt : Moist : R_Sta_txt : Chemically wet: 52732\n",
      "s_status_txt : Moist : R_Sta_txt : Damp: 54319\n",
      "s_status_txt : Moist : R_Sta_txt : Wet: 44071\n",
      "s_status_txt : Moist : R_Sta_txt : Dry: 25076\n",
      "s_status_txt : Moist : R_Sta_txt : Ice: 50\n",
      "s_status_txt : Moist : R_Sta_txt : Critically wet: 25\n",
      "s_status_txt : Moist : R_Sta_txt : Snow / Ice: 2\n",
      "s_status_txt : Moist : R_Sta_txt : nan: 0\n",
      "s_status_txt : error : R_Sta_txt : Chemically wet: 3190\n",
      "s_status_txt : error : R_Sta_txt : Damp: 4265\n",
      "s_status_txt : error : R_Sta_txt : Wet: 2495\n",
      "s_status_txt : error : R_Sta_txt : Dry: 4867\n",
      "s_status_txt : error : R_Sta_txt : Ice: 1092\n",
      "s_status_txt : error : R_Sta_txt : Critically wet: 187\n",
      "s_status_txt : error : R_Sta_txt : Snow / Ice: 323\n",
      "s_status_txt : error : R_Sta_txt : nan: 0\n",
      "s_status_txt : Wet : R_Sta_txt : Chemically wet: 16464\n",
      "s_status_txt : Wet : R_Sta_txt : Damp: 2454\n",
      "s_status_txt : Wet : R_Sta_txt : Wet: 84597\n",
      "s_status_txt : Wet : R_Sta_txt : Dry: 1571\n",
      "s_status_txt : Wet : R_Sta_txt : Ice: 1384\n",
      "s_status_txt : Wet : R_Sta_txt : Critically wet: 1713\n",
      "s_status_txt : Wet : R_Sta_txt : Snow / Ice: 44\n",
      "s_status_txt : Wet : R_Sta_txt : nan: 0\n",
      "s_status_txt : Snow : R_Sta_txt : Chemically wet: 286\n",
      "s_status_txt : Snow : R_Sta_txt : Damp: 516\n",
      "s_status_txt : Snow : R_Sta_txt : Wet: 204\n",
      "s_status_txt : Snow : R_Sta_txt : Dry: 736\n",
      "s_status_txt : Snow : R_Sta_txt : Ice: 997\n",
      "s_status_txt : Snow : R_Sta_txt : Critically wet: 45\n",
      "s_status_txt : Snow : R_Sta_txt : Snow / Ice: 113\n",
      "s_status_txt : Snow : R_Sta_txt : nan: 0\n",
      "s_status_txt : Ice : R_Sta_txt : Chemically wet: 41\n",
      "s_status_txt : Ice : R_Sta_txt : Damp: 9\n",
      "s_status_txt : Ice : R_Sta_txt : Wet: 31\n",
      "s_status_txt : Ice : R_Sta_txt : Dry: 0\n",
      "s_status_txt : Ice : R_Sta_txt : Ice: 35\n",
      "s_status_txt : Ice : R_Sta_txt : Critically wet: 13\n",
      "s_status_txt : Ice : R_Sta_txt : Snow / Ice: 2\n",
      "s_status_txt : Ice : R_Sta_txt : nan: 0\n",
      "s_status_txt : Slush : R_Sta_txt : Chemically wet: 174\n",
      "s_status_txt : Slush : R_Sta_txt : Damp: 6\n",
      "s_status_txt : Slush : R_Sta_txt : Wet: 33\n",
      "s_status_txt : Slush : R_Sta_txt : Dry: 0\n",
      "s_status_txt : Slush : R_Sta_txt : Ice: 726\n",
      "s_status_txt : Slush : R_Sta_txt : Critically wet: 176\n",
      "s_status_txt : Slush : R_Sta_txt : Snow / Ice: 70\n",
      "s_status_txt : Slush : R_Sta_txt : nan: 0\n"
     ]
    }
   ],
   "source": [
    "for i in df['s_status_txt'].unique():\n",
    "    for j in df['R_Sta_txt'].unique():\n",
    "        print(\"s_status_txt :\",i,\":\", \"R_Sta_txt :\",j ,end=\": \")\n",
    "        print(len(df[(df['s_status_txt'] == f\"{i}\") & (df['R_Sta_txt'] == f\"{j}\")]))"
   ]
  },
  {
   "cell_type": "code",
   "execution_count": 36,
   "metadata": {},
   "outputs": [
    {
     "name": "stdout",
     "output_type": "stream",
     "text": [
      "R_Sta_txt : Chemically wet : s_status_txt : Dry: 75770\n",
      "R_Sta_txt : Chemically wet : s_status_txt : nan: 0\n",
      "R_Sta_txt : Chemically wet : s_status_txt : Moist: 52732\n",
      "R_Sta_txt : Chemically wet : s_status_txt : error: 3190\n",
      "R_Sta_txt : Chemically wet : s_status_txt : Wet: 16464\n",
      "R_Sta_txt : Chemically wet : s_status_txt : Snow: 286\n",
      "R_Sta_txt : Chemically wet : s_status_txt : Ice: 41\n",
      "R_Sta_txt : Chemically wet : s_status_txt : Slush: 174\n",
      "R_Sta_txt : Damp : s_status_txt : Dry: 146872\n",
      "R_Sta_txt : Damp : s_status_txt : nan: 0\n",
      "R_Sta_txt : Damp : s_status_txt : Moist: 54319\n",
      "R_Sta_txt : Damp : s_status_txt : error: 4265\n",
      "R_Sta_txt : Damp : s_status_txt : Wet: 2454\n",
      "R_Sta_txt : Damp : s_status_txt : Snow: 516\n",
      "R_Sta_txt : Damp : s_status_txt : Ice: 9\n",
      "R_Sta_txt : Damp : s_status_txt : Slush: 6\n",
      "R_Sta_txt : Wet : s_status_txt : Dry: 24893\n",
      "R_Sta_txt : Wet : s_status_txt : nan: 0\n",
      "R_Sta_txt : Wet : s_status_txt : Moist: 44071\n",
      "R_Sta_txt : Wet : s_status_txt : error: 2495\n",
      "R_Sta_txt : Wet : s_status_txt : Wet: 84597\n",
      "R_Sta_txt : Wet : s_status_txt : Snow: 204\n",
      "R_Sta_txt : Wet : s_status_txt : Ice: 31\n",
      "R_Sta_txt : Wet : s_status_txt : Slush: 33\n",
      "R_Sta_txt : Dry : s_status_txt : Dry: 256261\n",
      "R_Sta_txt : Dry : s_status_txt : nan: 0\n",
      "R_Sta_txt : Dry : s_status_txt : Moist: 25076\n",
      "R_Sta_txt : Dry : s_status_txt : error: 4867\n",
      "R_Sta_txt : Dry : s_status_txt : Wet: 1571\n",
      "R_Sta_txt : Dry : s_status_txt : Snow: 736\n",
      "R_Sta_txt : Dry : s_status_txt : Ice: 0\n",
      "R_Sta_txt : Dry : s_status_txt : Slush: 0\n",
      "R_Sta_txt : Ice : s_status_txt : Dry: 87\n",
      "R_Sta_txt : Ice : s_status_txt : nan: 0\n",
      "R_Sta_txt : Ice : s_status_txt : Moist: 50\n",
      "R_Sta_txt : Ice : s_status_txt : error: 1092\n",
      "R_Sta_txt : Ice : s_status_txt : Wet: 1384\n",
      "R_Sta_txt : Ice : s_status_txt : Snow: 997\n",
      "R_Sta_txt : Ice : s_status_txt : Ice: 35\n",
      "R_Sta_txt : Ice : s_status_txt : Slush: 726\n",
      "R_Sta_txt : Critically wet : s_status_txt : Dry: 17\n",
      "R_Sta_txt : Critically wet : s_status_txt : nan: 0\n",
      "R_Sta_txt : Critically wet : s_status_txt : Moist: 25\n",
      "R_Sta_txt : Critically wet : s_status_txt : error: 187\n",
      "R_Sta_txt : Critically wet : s_status_txt : Wet: 1713\n",
      "R_Sta_txt : Critically wet : s_status_txt : Snow: 45\n",
      "R_Sta_txt : Critically wet : s_status_txt : Ice: 13\n",
      "R_Sta_txt : Critically wet : s_status_txt : Slush: 176\n",
      "R_Sta_txt : Snow / Ice : s_status_txt : Dry: 8\n",
      "R_Sta_txt : Snow / Ice : s_status_txt : nan: 0\n",
      "R_Sta_txt : Snow / Ice : s_status_txt : Moist: 2\n",
      "R_Sta_txt : Snow / Ice : s_status_txt : error: 323\n",
      "R_Sta_txt : Snow / Ice : s_status_txt : Wet: 44\n",
      "R_Sta_txt : Snow / Ice : s_status_txt : Snow: 113\n",
      "R_Sta_txt : Snow / Ice : s_status_txt : Ice: 2\n",
      "R_Sta_txt : Snow / Ice : s_status_txt : Slush: 70\n",
      "R_Sta_txt : nan : s_status_txt : Dry: 0\n",
      "R_Sta_txt : nan : s_status_txt : nan: 0\n",
      "R_Sta_txt : nan : s_status_txt : Moist: 0\n",
      "R_Sta_txt : nan : s_status_txt : error: 0\n",
      "R_Sta_txt : nan : s_status_txt : Wet: 0\n",
      "R_Sta_txt : nan : s_status_txt : Snow: 0\n",
      "R_Sta_txt : nan : s_status_txt : Ice: 0\n",
      "R_Sta_txt : nan : s_status_txt : Slush: 0\n"
     ]
    }
   ],
   "source": [
    "for j in df['R_Sta_txt'].unique():\n",
    "    for i in df['s_status_txt'].unique():\n",
    "        print(\"R_Sta_txt :\",j, \":\",\"s_status_txt :\",i, end=\": \")\n",
    "        print(len(df[(df['s_status_txt'] == f\"{i}\") & (df['R_Sta_txt'] == f\"{j}\")]))"
   ]
  }
 ],
 "metadata": {
  "kernelspec": {
   "display_name": "data",
   "language": "python",
   "name": "python3"
  },
  "language_info": {
   "codemirror_mode": {
    "name": "ipython",
    "version": 3
   },
   "file_extension": ".py",
   "mimetype": "text/x-python",
   "name": "python",
   "nbconvert_exporter": "python",
   "pygments_lexer": "ipython3",
   "version": "3.11.9"
  }
 },
 "nbformat": 4,
 "nbformat_minor": 2
}
