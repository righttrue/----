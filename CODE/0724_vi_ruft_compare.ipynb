{
 "cells": [
  {
   "cell_type": "code",
   "execution_count": 1,
   "metadata": {},
   "outputs": [],
   "source": [
    "import numpy as np\n",
    "import pandas as pd"
   ]
  },
  {
   "cell_type": "code",
   "execution_count": 2,
   "metadata": {},
   "outputs": [],
   "source": [
    "df = pd.read_csv('../DATA/CONCAT/luft_vi_2023_2024.csv')"
   ]
  },
  {
   "cell_type": "code",
   "execution_count": 3,
   "metadata": {},
   "outputs": [
    {
     "data": {
      "text/plain": [
       "array(['Dry', nan, 'Moist', 'Snow', 'Wet', 'error', 'Ice', 'Slush'],\n",
       "      dtype=object)"
      ]
     },
     "execution_count": 3,
     "metadata": {},
     "output_type": "execute_result"
    }
   ],
   "source": [
    "df['s_status_txt'].unique()"
   ]
  },
  {
   "cell_type": "code",
   "execution_count": 4,
   "metadata": {},
   "outputs": [
    {
     "data": {
      "text/plain": [
       "array(['Chemically wet', 'Damp', 'Wet', 'Dry', 'Ice', 'Critically wet',\n",
       "       'Snow / Ice', nan], dtype=object)"
      ]
     },
     "execution_count": 4,
     "metadata": {},
     "output_type": "execute_result"
    }
   ],
   "source": [
    "df['R_Sta_txt'].unique()"
   ]
  },
  {
   "cell_type": "code",
   "execution_count": 5,
   "metadata": {},
   "outputs": [
    {
     "data": {
      "text/plain": [
       "R_Sta_txt\n",
       "Dry               334016\n",
       "Damp              251835\n",
       "Wet               178890\n",
       "Chemically wet    171229\n",
       "Ice                 4479\n",
       "Critically wet      2236\n",
       "Snow / Ice           578\n",
       "Name: count, dtype: int64"
      ]
     },
     "execution_count": 5,
     "metadata": {},
     "output_type": "execute_result"
    }
   ],
   "source": [
    "df['R_Sta_txt'].value_counts()"
   ]
  },
  {
   "cell_type": "code",
   "execution_count": 6,
   "metadata": {},
   "outputs": [
    {
     "data": {
      "text/plain": [
       "s_status_txt\n",
       "Dry      505656\n",
       "Moist    176679\n",
       "Wet      108517\n",
       "Snow      10087\n",
       "error      6721\n",
       "Slush      1185\n",
       "Ice         482\n",
       "Name: count, dtype: int64"
      ]
     },
     "execution_count": 6,
     "metadata": {},
     "output_type": "execute_result"
    }
   ],
   "source": [
    "df['s_status_txt'].value_counts()"
   ]
  },
  {
   "cell_type": "code",
   "execution_count": 7,
   "metadata": {},
   "outputs": [
    {
     "name": "stdout",
     "output_type": "stream",
     "text": [
      "s_status_txt : Dry : R_Sta_txt : Chemically wet: 76053\n",
      "s_status_txt : Dry : R_Sta_txt : Damp: 147381\n",
      "s_status_txt : Dry : R_Sta_txt : Wet: 24964\n",
      "s_status_txt : Dry : R_Sta_txt : Dry: 256903\n",
      "s_status_txt : Dry : R_Sta_txt : Ice: 87\n",
      "s_status_txt : Dry : R_Sta_txt : Critically wet: 17\n",
      "s_status_txt : Dry : R_Sta_txt : Snow / Ice: 8\n",
      "s_status_txt : Dry : R_Sta_txt : nan: 0\n",
      "s_status_txt : nan : R_Sta_txt : Chemically wet: 0\n",
      "s_status_txt : nan : R_Sta_txt : Damp: 0\n",
      "s_status_txt : nan : R_Sta_txt : Wet: 0\n",
      "s_status_txt : nan : R_Sta_txt : Dry: 0\n",
      "s_status_txt : nan : R_Sta_txt : Ice: 0\n",
      "s_status_txt : nan : R_Sta_txt : Critically wet: 0\n",
      "s_status_txt : nan : R_Sta_txt : Snow / Ice: 0\n",
      "s_status_txt : nan : R_Sta_txt : nan: 0\n",
      "s_status_txt : Moist : R_Sta_txt : Chemically wet: 52834\n",
      "s_status_txt : Moist : R_Sta_txt : Damp: 54421\n",
      "s_status_txt : Moist : R_Sta_txt : Wet: 44171\n",
      "s_status_txt : Moist : R_Sta_txt : Dry: 25137\n",
      "s_status_txt : Moist : R_Sta_txt : Ice: 50\n",
      "s_status_txt : Moist : R_Sta_txt : Critically wet: 25\n",
      "s_status_txt : Moist : R_Sta_txt : Snow / Ice: 2\n",
      "s_status_txt : Moist : R_Sta_txt : nan: 0\n",
      "s_status_txt : Snow : R_Sta_txt : Chemically wet: 1657\n",
      "s_status_txt : Snow : R_Sta_txt : Damp: 2369\n",
      "s_status_txt : Snow : R_Sta_txt : Wet: 911\n",
      "s_status_txt : Snow : R_Sta_txt : Dry: 2686\n",
      "s_status_txt : Snow : R_Sta_txt : Ice: 1923\n",
      "s_status_txt : Snow : R_Sta_txt : Critically wet: 114\n",
      "s_status_txt : Snow : R_Sta_txt : Snow / Ice: 426\n",
      "s_status_txt : Snow : R_Sta_txt : nan: 0\n",
      "s_status_txt : Wet : R_Sta_txt : Chemically wet: 16518\n",
      "s_status_txt : Wet : R_Sta_txt : Damp: 2461\n",
      "s_status_txt : Wet : R_Sta_txt : Wet: 84718\n",
      "s_status_txt : Wet : R_Sta_txt : Dry: 1593\n",
      "s_status_txt : Wet : R_Sta_txt : Ice: 1395\n",
      "s_status_txt : Wet : R_Sta_txt : Critically wet: 1786\n",
      "s_status_txt : Wet : R_Sta_txt : Snow / Ice: 44\n",
      "s_status_txt : Wet : R_Sta_txt : nan: 0\n",
      "s_status_txt : error : R_Sta_txt : Chemically wet: 1316\n",
      "s_status_txt : error : R_Sta_txt : Damp: 1785\n",
      "s_status_txt : error : R_Sta_txt : Wet: 1351\n",
      "s_status_txt : error : R_Sta_txt : Dry: 2191\n",
      "s_status_txt : error : R_Sta_txt : Ice: 58\n",
      "s_status_txt : error : R_Sta_txt : Critically wet: 15\n",
      "s_status_txt : error : R_Sta_txt : Snow / Ice: 5\n",
      "s_status_txt : error : R_Sta_txt : nan: 0\n",
      "s_status_txt : Ice : R_Sta_txt : Chemically wet: 105\n",
      "s_status_txt : Ice : R_Sta_txt : Damp: 18\n",
      "s_status_txt : Ice : R_Sta_txt : Wet: 176\n",
      "s_status_txt : Ice : R_Sta_txt : Dry: 1\n",
      "s_status_txt : Ice : R_Sta_txt : Ice: 132\n",
      "s_status_txt : Ice : R_Sta_txt : Critically wet: 43\n",
      "s_status_txt : Ice : R_Sta_txt : Snow / Ice: 7\n",
      "s_status_txt : Ice : R_Sta_txt : nan: 0\n",
      "s_status_txt : Slush : R_Sta_txt : Chemically wet: 174\n",
      "s_status_txt : Slush : R_Sta_txt : Damp: 6\n",
      "s_status_txt : Slush : R_Sta_txt : Wet: 33\n",
      "s_status_txt : Slush : R_Sta_txt : Dry: 0\n",
      "s_status_txt : Slush : R_Sta_txt : Ice: 726\n",
      "s_status_txt : Slush : R_Sta_txt : Critically wet: 176\n",
      "s_status_txt : Slush : R_Sta_txt : Snow / Ice: 70\n",
      "s_status_txt : Slush : R_Sta_txt : nan: 0\n"
     ]
    }
   ],
   "source": [
    "for i in df['s_status_txt'].unique():\n",
    "    for j in df['R_Sta_txt'].unique():\n",
    "        print(\"s_status_txt :\",i,\":\", \"R_Sta_txt :\",j ,end=\": \")\n",
    "        print(len(df[(df['s_status_txt'] == f\"{i}\") & (df['R_Sta_txt'] == f\"{j}\")]))"
   ]
  },
  {
   "cell_type": "code",
   "execution_count": 8,
   "metadata": {},
   "outputs": [
    {
     "name": "stdout",
     "output_type": "stream",
     "text": [
      "R_Sta_txt : Chemically wet : s_status_txt : Dry: 76053\n",
      "R_Sta_txt : Chemically wet : s_status_txt : nan: 0\n",
      "R_Sta_txt : Chemically wet : s_status_txt : Moist: 52834\n",
      "R_Sta_txt : Chemically wet : s_status_txt : Snow: 1657\n",
      "R_Sta_txt : Chemically wet : s_status_txt : Wet: 16518\n",
      "R_Sta_txt : Chemically wet : s_status_txt : error: 1316\n",
      "R_Sta_txt : Chemically wet : s_status_txt : Ice: 105\n",
      "R_Sta_txt : Chemically wet : s_status_txt : Slush: 174\n",
      "R_Sta_txt : Damp : s_status_txt : Dry: 147381\n",
      "R_Sta_txt : Damp : s_status_txt : nan: 0\n",
      "R_Sta_txt : Damp : s_status_txt : Moist: 54421\n",
      "R_Sta_txt : Damp : s_status_txt : Snow: 2369\n",
      "R_Sta_txt : Damp : s_status_txt : Wet: 2461\n",
      "R_Sta_txt : Damp : s_status_txt : error: 1785\n",
      "R_Sta_txt : Damp : s_status_txt : Ice: 18\n",
      "R_Sta_txt : Damp : s_status_txt : Slush: 6\n",
      "R_Sta_txt : Wet : s_status_txt : Dry: 24964\n",
      "R_Sta_txt : Wet : s_status_txt : nan: 0\n",
      "R_Sta_txt : Wet : s_status_txt : Moist: 44171\n",
      "R_Sta_txt : Wet : s_status_txt : Snow: 911\n",
      "R_Sta_txt : Wet : s_status_txt : Wet: 84718\n",
      "R_Sta_txt : Wet : s_status_txt : error: 1351\n",
      "R_Sta_txt : Wet : s_status_txt : Ice: 176\n",
      "R_Sta_txt : Wet : s_status_txt : Slush: 33\n",
      "R_Sta_txt : Dry : s_status_txt : Dry: 256903\n",
      "R_Sta_txt : Dry : s_status_txt : nan: 0\n",
      "R_Sta_txt : Dry : s_status_txt : Moist: 25137\n",
      "R_Sta_txt : Dry : s_status_txt : Snow: 2686\n",
      "R_Sta_txt : Dry : s_status_txt : Wet: 1593\n",
      "R_Sta_txt : Dry : s_status_txt : error: 2191\n",
      "R_Sta_txt : Dry : s_status_txt : Ice: 1\n",
      "R_Sta_txt : Dry : s_status_txt : Slush: 0\n",
      "R_Sta_txt : Ice : s_status_txt : Dry: 87\n",
      "R_Sta_txt : Ice : s_status_txt : nan: 0\n",
      "R_Sta_txt : Ice : s_status_txt : Moist: 50\n",
      "R_Sta_txt : Ice : s_status_txt : Snow: 1923\n",
      "R_Sta_txt : Ice : s_status_txt : Wet: 1395\n",
      "R_Sta_txt : Ice : s_status_txt : error: 58\n",
      "R_Sta_txt : Ice : s_status_txt : Ice: 132\n",
      "R_Sta_txt : Ice : s_status_txt : Slush: 726\n",
      "R_Sta_txt : Critically wet : s_status_txt : Dry: 17\n",
      "R_Sta_txt : Critically wet : s_status_txt : nan: 0\n",
      "R_Sta_txt : Critically wet : s_status_txt : Moist: 25\n",
      "R_Sta_txt : Critically wet : s_status_txt : Snow: 114\n",
      "R_Sta_txt : Critically wet : s_status_txt : Wet: 1786\n",
      "R_Sta_txt : Critically wet : s_status_txt : error: 15\n",
      "R_Sta_txt : Critically wet : s_status_txt : Ice: 43\n",
      "R_Sta_txt : Critically wet : s_status_txt : Slush: 176\n",
      "R_Sta_txt : Snow / Ice : s_status_txt : Dry: 8\n",
      "R_Sta_txt : Snow / Ice : s_status_txt : nan: 0\n",
      "R_Sta_txt : Snow / Ice : s_status_txt : Moist: 2\n",
      "R_Sta_txt : Snow / Ice : s_status_txt : Snow: 426\n",
      "R_Sta_txt : Snow / Ice : s_status_txt : Wet: 44\n",
      "R_Sta_txt : Snow / Ice : s_status_txt : error: 5\n",
      "R_Sta_txt : Snow / Ice : s_status_txt : Ice: 7\n",
      "R_Sta_txt : Snow / Ice : s_status_txt : Slush: 70\n",
      "R_Sta_txt : nan : s_status_txt : Dry: 0\n",
      "R_Sta_txt : nan : s_status_txt : nan: 0\n",
      "R_Sta_txt : nan : s_status_txt : Moist: 0\n",
      "R_Sta_txt : nan : s_status_txt : Snow: 0\n",
      "R_Sta_txt : nan : s_status_txt : Wet: 0\n",
      "R_Sta_txt : nan : s_status_txt : error: 0\n",
      "R_Sta_txt : nan : s_status_txt : Ice: 0\n",
      "R_Sta_txt : nan : s_status_txt : Slush: 0\n"
     ]
    }
   ],
   "source": [
    "for j in df['R_Sta_txt'].unique():\n",
    "    for i in df['s_status_txt'].unique():\n",
    "        print(\"R_Sta_txt :\",j, \":\",\"s_status_txt :\",i, end=\": \")\n",
    "        print(len(df[(df['s_status_txt'] == f\"{i}\") & (df['R_Sta_txt'] == f\"{j}\")]))"
   ]
  },
  {
   "cell_type": "code",
   "execution_count": null,
   "metadata": {},
   "outputs": [],
   "source": []
  }
 ],
 "metadata": {
  "kernelspec": {
   "display_name": "data",
   "language": "python",
   "name": "python3"
  },
  "language_info": {
   "codemirror_mode": {
    "name": "ipython",
    "version": 3
   },
   "file_extension": ".py",
   "mimetype": "text/x-python",
   "name": "python",
   "nbconvert_exporter": "python",
   "pygments_lexer": "ipython3",
   "version": "3.11.9"
  }
 },
 "nbformat": 4,
 "nbformat_minor": 2
}
